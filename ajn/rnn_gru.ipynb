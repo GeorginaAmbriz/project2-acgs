{
 "cells": [
  {
   "cell_type": "markdown",
   "metadata": {},
   "source": [
    "# RNN with Gater Recurrent Units from scratch"
   ]
  },
  {
   "cell_type": "markdown",
   "metadata": {},
   "source": [
    "## Import libraries"
   ]
  },
  {
   "cell_type": "code",
   "execution_count": 5,
   "metadata": {},
   "outputs": [],
   "source": [
    "import csv\n",
    "import numpy as np\n",
    "import pickle as pkl\n",
    "import tensorflow as tf\n",
    "from random import sample"
   ]
  },
  {
   "cell_type": "markdown",
   "metadata": {},
   "source": [
    "## Charging data: "
   ]
  },
  {
   "cell_type": "code",
   "execution_count": 6,
   "metadata": {},
   "outputs": [],
   "source": [
    "class TextProcess(object):\n",
    "\n",
    "    def __init__(self):\n",
    "        self.idx2ch = []\n",
    "        self.ch2idx = []\n",
    "    def get_data(self, filename, batch_size=20):\n",
    "        index = 0\n",
    "        self.batch_size = batch_size\n",
    "        with open(filename) as f:\n",
    "            lines = f.read().split('\\n')\n",
    "            raw_data = '\\n'.join(lines)\n",
    "            self.idx2ch = list(set(raw_data))\n",
    "            self.ch2idx = { k:v for v,k in enumerate(self.idx2ch) }\n",
    "\n",
    "        self.n_batches = len(raw_data) // self.batch_size\n",
    "        # create numpy arrays\n",
    "        X = np.zeros([self.n_batches, self.batch_size])\n",
    "        Y = np.zeros([self.n_batches, self.batch_size])\n",
    "        for i in range(0, self.n_batches):\n",
    "            X[i] = np.array([ self.ch2idx[ch] for ch in raw_data[i*self.batch_size:(i+1)*self.batch_size] ])\n",
    "            Y[i] = np.array([ self.ch2idx[ch] for ch in raw_data[(i*self.batch_size) + 1 : ((i+1)*self.batch_size) + 1] ])\n",
    "\n",
    "        return X.astype(np.int32), Y.astype(np.int32)\n",
    "    \n",
    "    def set_parameters(self, batch_size):\n",
    "        self.batch_size = batch_size\n",
    "    \n",
    "    def get_parameters(self):\n",
    "        return self.n_batches, self.batch_size"
   ]
  },
  {
   "cell_type": "markdown",
   "metadata": {},
   "source": [
    "## Model definition: "
   ]
  },
  {
   "cell_type": "code",
   "execution_count": 21,
   "metadata": {},
   "outputs": [],
   "source": [
    "class rnn_gru(object):\n",
    "    \n",
    "    def __init__(self, embedding_size, num_classes):\n",
    "        self.loss_arr = []\n",
    "        tf.reset_default_graph()\n",
    "        self.embedding_size = embedding_size\n",
    "        self.num_classes = num_classes\n",
    "        # Placeholders\n",
    "        xs_ = tf.placeholder(shape=[None, None], dtype=tf.int32)\n",
    "        ys_ = tf.placeholder(shape=[None], dtype=tf.int32)\n",
    "        # Initial state of the network\n",
    "        init_state = tf.placeholder(shape=[None, self.embedding_size], dtype=tf.float32, name='initial_state')\n",
    "        # Embeddings\n",
    "        embs = tf.get_variable('emb', [self.num_classes, self.embedding_size])\n",
    "        rnn_inputs = tf.nn.embedding_lookup(embs, xs_)\n",
    "        # Initializer\n",
    "        xav_init = tf.contrib.layers.xavier_initializer\n",
    "        # Params\n",
    "        self.W = tf.get_variable('W', shape=[3, self.embedding_size, self.embedding_size], initializer=xav_init())\n",
    "        self.U = tf.get_variable('U', shape=[3, self.embedding_size, self.embedding_size], initializer=xav_init())\n",
    "        self.b = tf.get_variable('b', shape=[self.embedding_size], initializer=tf.constant_initializer(0.))\n",
    "        \n",
    "        # step - GRU\n",
    "        def step(st_1, x):\n",
    "            z = tf.sigmoid(tf.matmul(x,self.U[0]) + tf.matmul(st_1,self.W[0]))\n",
    "            r = tf.sigmoid(tf.matmul(x,self.U[1]) + tf.matmul(st_1,self.W[1]))\n",
    "            h = tf.tanh(tf.matmul(x,self.U[2]) + tf.matmul( (r*st_1),self.W[2]))\n",
    "     \n",
    "            st = (1-z)*h + (z*st_1)\n",
    "            return st\n",
    "        \n",
    "        states = tf.scan(step, tf.transpose(rnn_inputs, [1,0,2]), initializer=init_state)\n",
    "        \n",
    "        \n",
    "        # Output\n",
    "        V = tf.get_variable('V', shape=[self.embedding_size, self.num_classes], initializer=xav_init())\n",
    "        bo = tf.get_variable('bo', shape=[self.num_classes], initializer=tf.constant_initializer(0.))\n",
    "        states_reshaped = tf.reshape(states, [-1, self.embedding_size])\n",
    "        yPredbyNN = tf.matmul(states_reshaped, V) + bo\n",
    "        predictions = tf.nn.softmax(yPredbyNN)\n",
    "        \n",
    "        # get last state\n",
    "        last_state = states[-1]\n",
    "        \n",
    "        # Optimization\n",
    " \n",
    "        losses = tf.nn.sparse_softmax_cross_entropy_with_logits(logits = yPredbyNN, labels=ys_)\n",
    "        loss = tf.reduce_mean(losses)\n",
    "        train_op = tf.train.AdamOptimizer(learning_rate=0.1).minimize(loss)\n",
    "    \n",
    "        # Update status\n",
    "        self.xs_ = xs_\n",
    "        self.ys_ = ys_\n",
    "        self.loss = loss\n",
    "        self.train_op = train_op\n",
    "        self.predictions = predictions\n",
    "        self.last_state = last_state\n",
    "        self.init_state = init_state\n",
    "    \n",
    "    def rand_batch_gen(self, x, y, train_batch_size):\n",
    "        while True:\n",
    "            sample_idx = sample(list(np.arange(len(x))), train_batch_size)\n",
    "            yield x[sample_idx], y[sample_idx]\n",
    "    \n",
    "    \n",
    "    def train(self, train_set, epochs=50):\n",
    "        # training session\n",
    "        with tf.Session() as sess:\n",
    "            sess.run(tf.global_variables_initializer())\n",
    "            train_loss = 0\n",
    "            try:\n",
    "                for i in range(epochs):\n",
    "                    for j in range(1000):\n",
    "                        xs, ys = train_set.__next__()\n",
    "                        batch_size = xs.shape[0]\n",
    "                        _, train_loss_ = sess.run([self.train_op, self.loss], feed_dict = {\n",
    "                                self.xs_ : xs,\n",
    "                                self.ys_ : ys.flatten(),\n",
    "                                self.init_state : np.zeros([batch_size, self.embedding_size])\n",
    "                            })\n",
    "                        train_loss += train_loss_\n",
    "                    self.loss_arr.append(train_loss/1000)\n",
    "                    print('[{}] loss : {}'.format(i,train_loss/1000))\n",
    "                    train_loss = 0\n",
    "            except KeyboardInterrupt:\n",
    "                print('interrupted by user at ' + str(i))\n"
   ]
  },
  {
   "cell_type": "code",
   "execution_count": 22,
   "metadata": {},
   "outputs": [],
   "source": [
    "import numpy as np\n",
    "import matplotlib.pyplot as plt\n",
    "import matplotlib.gridspec as gridspec\n",
    "\n",
    "# Display differents graphs using different hyperparameters saved in arrays.\n",
    "# Input variables are arrays with the same lenght, with the values to graph\n",
    "\n",
    "def show_graphs(epoch_arr,loss_arr):\n",
    "# define a list of markevery cases to plot\n",
    "    cases=[]\n",
    "    x_values=[]\n",
    "    y_values=[]\n",
    "    for i in range(len(epoch_arr)):\n",
    "        cases.append([epoch_arr[i]])\n",
    "        # define the data for cartesian plots\n",
    "        x_values.append(range(epoch_arr[i]))\n",
    "        y_values.append(loss_arr)\n",
    "    # define the figure size and grid layout properties\n",
    "    figsize = (12, 10)\n",
    "    cols = 2\n",
    "    gs = gridspec.GridSpec(len(cases) // cols + 1, cols)\n",
    "    gs.update(hspace=0.4)\n",
    "    \n",
    "    fig1 = plt.figure(num=1, figsize=figsize)\n",
    "    ax = []\n",
    "    for i, case in enumerate(cases):\n",
    "        row = (i // cols)\n",
    "        col = i % cols\n",
    "        ax.append(fig1.add_subplot(gs[row, col]))\n",
    "        ax[-1].set_title('Epoch=%s' % (str(case[0])))\n",
    "        ax[-1].plot(x_values[i], y_values[i], 'o', ls='-', ms=4, markevery=1)"
   ]
  },
  {
   "cell_type": "code",
   "execution_count": 23,
   "metadata": {},
   "outputs": [
    {
     "name": "stdout",
     "output_type": "stream",
     "text": [
      "[0] loss : 3.1139340016841888\n",
      "[1] loss : 3.1079220383167265\n",
      "[2] loss : 3.1080239396095277\n",
      "[3] loss : 3.1082424211502073\n",
      "[4] loss : 3.108736758708954\n",
      "[5] loss : 3.108267209291458\n",
      "[6] loss : 3.1097984449863434\n",
      "[7] loss : 3.108362102508545\n",
      "[8] loss : 3.108398712396622\n",
      "[9] loss : 3.108198005914688\n",
      "[10] loss : 3.1086673636436464\n",
      "[11] loss : 3.108191239595413\n",
      "[12] loss : 3.108504013776779\n",
      "[13] loss : 3.10935839009285\n",
      "[14] loss : 3.1095592370033263\n",
      "[15] loss : 3.109462576389313\n",
      "[16] loss : 3.110269999027252\n",
      "[17] loss : 3.1092113869190214\n",
      "[18] loss : 3.109811368227005\n",
      "[19] loss : 3.109537349462509\n",
      "[20] loss : 3.1093348689079283\n",
      "[21] loss : 3.108430936098099\n",
      "[22] loss : 3.1092825319767\n",
      "[23] loss : 3.1094305701255798\n",
      "[24] loss : 3.1078828506469725\n",
      "[25] loss : 3.109747648000717\n",
      "[26] loss : 3.1092331044673918\n",
      "[27] loss : 3.1086523163318636\n",
      "[28] loss : 3.109508946180344\n",
      "[29] loss : 3.109690535068512\n",
      "[30] loss : 3.1095703175067904\n",
      "[31] loss : 3.110062121629715\n",
      "[32] loss : 3.1107153582572935\n",
      "[33] loss : 3.1095868704319\n",
      "[34] loss : 3.1097633767127992\n",
      "[35] loss : 3.108869354248047\n",
      "[36] loss : 3.1097834656238557\n",
      "[37] loss : 3.1099474017620086\n",
      "[38] loss : 3.109131251811981\n",
      "[39] loss : 3.109468180179596\n",
      "[40] loss : 3.1088450496196747\n",
      "[41] loss : 3.109674855709076\n",
      "[42] loss : 3.1099849543571474\n",
      "[43] loss : 3.109213466644287\n",
      "[44] loss : 3.1100510861873625\n",
      "[45] loss : 3.110568764448166\n",
      "[46] loss : 3.110593106985092\n",
      "[47] loss : 3.108762272119522\n",
      "[48] loss : 3.1089515216350554\n",
      "[49] loss : 3.109423101902008\n"
     ]
    }
   ],
   "source": [
    "if __name__ == '__main__':\n",
    "    BATCH_SIZE = 256 \n",
    "    doc = TextProcess()\n",
    "    x,y = doc.get_data('data/paulg.txt', 20)\n",
    "    embedding_size = x.shape[1]\n",
    "    num_classes = len(doc.idx2ch)\n",
    "    n_batches, data_batch_size = doc.get_parameters()\n",
    "    model = rnn_gru(embedding_size, num_classes)\n",
    "    train_set = model.rand_batch_gen(x,y,BATCH_SIZE)\n",
    "    model.train(train_set)\n",
    "    "
   ]
  },
  {
   "cell_type": "code",
   "execution_count": 24,
   "metadata": {},
   "outputs": [
    {
     "data": {
      "image/png": "[encoded data removed]",
      "text/plain": [
       "<Figure size 864x720 with 1 Axes>"
      ]
     },
     "metadata": {},
     "output_type": "display_data"
    }
   ],
   "source": [
    "epoch_arr=[]\n",
    "epoch_arr.append(50)\n",
    "show_graphs(epoch_arr,model.loss_arr)"
   ]
  },
  {
   "cell_type": "code",
   "execution_count": null,
   "metadata": {},
   "outputs": [],
   "source": []
  }
 ],
 "metadata": {
  "kernelspec": {
   "display_name": "Python 3",
   "language": "python",
   "name": "python3"
  },
  "language_info": {
   "codemirror_mode": {
    "name": "ipython",
    "version": 3
   },
   "file_extension": ".py",
   "mimetype": "text/x-python",
   "name": "python",
   "nbconvert_exporter": "python",
   "pygments_lexer": "ipython3",
   "version": "3.6.5"
  }
 },
 "nbformat": 4,
 "nbformat_minor": 2
}
